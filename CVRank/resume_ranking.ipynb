{
 "cells": [
  {
   "cell_type": "code",
   "execution_count": 1,
   "id": "9f0dfeef-9144-4fa5-aa3f-65fa3f0e3d7b",
   "metadata": {},
   "outputs": [],
   "source": [
    "import streamlit as st\n",
    "from PyPDF2 import PdfReader\n",
    "import pandas as pd\n",
    "from sklearn.feature_extraction.text import TfidfVectorizer\n",
    "from sklearn.metrics.pairwise import cosine_similarity"
   ]
  },
  {
   "cell_type": "code",
   "execution_count": 26,
   "id": "73d56066",
   "metadata": {},
   "outputs": [],
   "source": [
    "file = \"Resume.pdf\""
   ]
  },
  {
   "cell_type": "code",
   "execution_count": null,
   "id": "64507ad7",
   "metadata": {},
   "outputs": [],
   "source": [
    "# pdf = PdfReader(file)\n",
    "# text = \"\"\n",
    "# for page in pdf.pages:\n",
    "#         text += page.extract_text()\n",
    "# print(text)\n",
    "# Extraction is here just a exmaple"
   ]
  },
  {
   "cell_type": "code",
   "execution_count": 30,
   "id": "adeaac88-5c56-4971-bb3f-59c4bbb60c4a",
   "metadata": {},
   "outputs": [],
   "source": [
    "# Function to extract text from PDF\n",
    "def extract_text_from_pdf(file):\n",
    "    pdf = PdfReader(file)\n",
    "    text = \"\"\n",
    "    for page in pdf.pages:\n",
    "        text += page.extract_text()\n",
    "    return text\n"
   ]
  },
  {
   "cell_type": "code",
   "execution_count": null,
   "id": "d7730660",
   "metadata": {},
   "outputs": [
    {
     "name": "stdout",
     "output_type": "stream",
     "text": [
      "\n"
     ]
    }
   ],
   "source": [
    "# print(text)"
   ]
  },
  {
   "cell_type": "code",
   "execution_count": null,
   "id": "5346adba-c7be-43e0-8962-c8ea95db7c18",
   "metadata": {},
   "outputs": [],
   "source": [
    "# Function to rank resumes based on job description\n",
    "from xml.dom.minidom import Document\n",
    "\n",
    "\n",
    "def rank_resumes(job_description, resumes):\n",
    "    # Combine job description with resumes\n",
    "    Document [job_description] + resumes\n",
    "    vectorizer = TfidfVectorizer().fit_transform(documents)\n",
    "    vectors = vectorizer.toarray()\n",
    "\n",
    "    # Calculate cosine similarity\n",
    "    job_description_vector = vectors[0]\n",
    "    resume_vectors = vectors [1:]\n",
    "    cosine_similarities = cosine_similarity ([job_description_vector], resume_vectors).flatten()\n",
    "    \n",
    "    return cosine_similarities"
   ]
  },
  {
   "cell_type": "code",
   "execution_count": 5,
   "id": "fe4f6753-d769-43c4-891a-4874d57ebdf6",
   "metadata": {},
   "outputs": [
    {
     "name": "stderr",
     "output_type": "stream",
     "text": [
      "2025-02-24 17:45:59.905 WARNING streamlit.runtime.scriptrunner_utils.script_run_context: Thread 'MainThread': missing ScriptRunContext! This warning can be ignored when running in bare mode.\n",
      "2025-02-24 17:46:01.474 \n",
      "  \u001b[33m\u001b[1mWarning:\u001b[0m to view this Streamlit app on a browser, run it with the following\n",
      "  command:\n",
      "\n",
      "    streamlit run c:\\Users\\Prathamesh\\Downloads\\Resume_Ranking\\Resume\\Lib\\site-packages\\ipykernel_launcher.py [ARGUMENTS]\n",
      "2025-02-24 17:46:01.475 Thread 'MainThread': missing ScriptRunContext! This warning can be ignored when running in bare mode.\n",
      "2025-02-24 17:46:01.480 Thread 'MainThread': missing ScriptRunContext! This warning can be ignored when running in bare mode.\n",
      "2025-02-24 17:46:01.481 Thread 'MainThread': missing ScriptRunContext! This warning can be ignored when running in bare mode.\n",
      "2025-02-24 17:46:01.482 Thread 'MainThread': missing ScriptRunContext! This warning can be ignored when running in bare mode.\n",
      "2025-02-24 17:46:01.485 Thread 'MainThread': missing ScriptRunContext! This warning can be ignored when running in bare mode.\n",
      "2025-02-24 17:46:01.486 Thread 'MainThread': missing ScriptRunContext! This warning can be ignored when running in bare mode.\n",
      "2025-02-24 17:46:01.488 Thread 'MainThread': missing ScriptRunContext! This warning can be ignored when running in bare mode.\n",
      "2025-02-24 17:46:01.489 Session state does not function when running a script without `streamlit run`\n",
      "2025-02-24 17:46:01.491 Thread 'MainThread': missing ScriptRunContext! This warning can be ignored when running in bare mode.\n",
      "2025-02-24 17:46:01.493 Thread 'MainThread': missing ScriptRunContext! This warning can be ignored when running in bare mode.\n"
     ]
    }
   ],
   "source": [
    "# Streamlit app\n",
    "st.title(\"AI Resume Screening & Candidate Ranking System\")\n",
    "# Job description input\n",
    "st.header(\"Job Description\")\n",
    "job_description= st.text_area (\"Enter the job description\")"
   ]
  },
  {
   "cell_type": "code",
   "execution_count": null,
   "id": "8b4202d6-4e09-4119-b1fd-9adb991b4ab5",
   "metadata": {},
   "outputs": [
    {
     "name": "stderr",
     "output_type": "stream",
     "text": [
      "2025-02-24 17:46:57.660 Thread 'MainThread': missing ScriptRunContext! This warning can be ignored when running in bare mode.\n",
      "2025-02-24 17:46:57.661 Thread 'MainThread': missing ScriptRunContext! This warning can be ignored when running in bare mode.\n",
      "2025-02-24 17:46:57.662 Thread 'MainThread': missing ScriptRunContext! This warning can be ignored when running in bare mode.\n",
      "2025-02-24 17:46:57.664 Thread 'MainThread': missing ScriptRunContext! This warning can be ignored when running in bare mode.\n",
      "2025-02-24 17:46:57.665 Thread 'MainThread': missing ScriptRunContext! This warning can be ignored when running in bare mode.\n",
      "2025-02-24 17:46:57.666 Thread 'MainThread': missing ScriptRunContext! This warning can be ignored when running in bare mode.\n",
      "2025-02-24 17:46:57.668 Thread 'MainThread': missing ScriptRunContext! This warning can be ignored when running in bare mode.\n"
     ]
    }
   ],
   "source": [
    "# File uploader\n",
    "st.header(\"Upload Resumes\")\n",
    "uploaded_files = st.file_uploader(\"Upload PDF files\", type=[\"pdf\"], accept_multiple_files=True)"
   ]
  },
  {
   "cell_type": "code",
   "execution_count": 7,
   "id": "8e218fd3-19a8-4514-98bb-e5d6672df465",
   "metadata": {},
   "outputs": [],
   "source": [
    "if uploaded_files and job_description:\n",
    "    st.header(\"Ranking Resumes\")\n",
    "    \n",
    "    resumes = []\n",
    "    for file in uploaded_files:\n",
    "        text = extract_text_from_pdf(file)\n",
    "        resumes.append(text)\n",
    "\n",
    "    # Rank resumes\n",
    "    scores = rank_resumes(job_description, resumes)\n",
    "\n",
    "    # Display scores\n",
    "    results = pd.DataFrame({\"Resume\": [file.name for file in uploaded_files], \"Score\": score })\n",
    "    results = results.sort_values(by=\"Score\", ascending=False)\n",
    "    \n",
    "    st.write(results)"
   ]
  },
  {
   "cell_type": "code",
   "execution_count": null,
   "id": "36f4c751-0615-4257-9dd4-36253f1e31e9",
   "metadata": {},
   "outputs": [],
   "source": []
  }
 ],
 "metadata": {
  "kernelspec": {
   "display_name": "Resume",
   "language": "python",
   "name": "python3"
  },
  "language_info": {
   "codemirror_mode": {
    "name": "ipython",
    "version": 3
   },
   "file_extension": ".py",
   "mimetype": "text/x-python",
   "name": "python",
   "nbconvert_exporter": "python",
   "pygments_lexer": "ipython3",
   "version": "3.11.7"
  }
 },
 "nbformat": 4,
 "nbformat_minor": 5
}
